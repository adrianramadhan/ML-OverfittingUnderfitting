{
 "cells": [
  {
   "cell_type": "code",
   "execution_count": 1,
   "metadata": {},
   "outputs": [],
   "source": [
    "import numpy as np\n",
    "import pandas as pd\n",
    "from sklearn.datasets import fetch_california_housing\n",
    "from sklearn.model_selection import train_test_split, cross_val_score, learning_curve\n",
    "from sklearn.preprocessing import StandardScaler\n",
    "from sklearn.tree import DecisionTreeRegressor\n",
    "from sklearn.metrics import mean_squared_error\n",
    "import matplotlib.pyplot as plt"
   ]
  },
  {
   "cell_type": "code",
   "execution_count": 2,
   "metadata": {},
   "outputs": [],
   "source": [
    "# Load dataset California Housing\n",
    "data = fetch_california_housing()\n",
    "X = pd.DataFrame(data.data, columns=data.feature_names)\n",
    "y = pd.Series(data.target)\n",
    " \n",
    "# Normalisasi data\n",
    "scaler = StandardScaler()\n",
    "X_scaled = scaler.fit_transform(X)\n",
    " \n",
    "# Membagi dataset menjadi data latih dan data uji\n",
    "X_train, X_test, y_train, y_test = train_test_split(X_scaled, y, test_size=0.3, random_state=42)"
   ]
  },
  {
   "cell_type": "code",
   "execution_count": 3,
   "metadata": {},
   "outputs": [],
   "source": [
    "# Inisialisasi model Decision Tree Regressor\n",
    "model = DecisionTreeRegressor(max_depth=50, random_state=42)\n",
    " \n",
    "# Melatih model dengan data latih\n",
    "model.fit(X_train, y_train)\n",
    " \n",
    "# Membuat prediksi untuk data latih dan data uji\n",
    "y_train_pred = model.predict(X_train)\n",
    "y_test_pred = model.predict(X_test)"
   ]
  },
  {
   "cell_type": "code",
   "execution_count": 4,
   "metadata": {},
   "outputs": [
    {
     "name": "stdout",
     "output_type": "stream",
     "text": [
      "Training MSE: 9.904697258622977e-32\n",
      "Test MSE: 0.5265256772490148\n"
     ]
    }
   ],
   "source": [
    "# Menghitung Mean Squared Error (MSE) untuk data latih dan data uji\n",
    "train_mse = mean_squared_error(y_train, y_train_pred)\n",
    "test_mse = mean_squared_error(y_test, y_test_pred)\n",
    " \n",
    "# Menampilkan hasil MSE\n",
    "print(f'Training MSE: {train_mse}')\n",
    "print(f'Test MSE: {test_mse}')"
   ]
  },
  {
   "cell_type": "code",
   "execution_count": 5,
   "metadata": {},
   "outputs": [
    {
     "data": {
      "image/png": "[encoded data removed]",
      "text/plain": [
       "<Figure size 640x480 with 1 Axes>"
      ]
     },
     "metadata": {},
     "output_type": "display_data"
    }
   ],
   "source": [
    "from sklearn.model_selection import learning_curve\n",
    "import matplotlib.pyplot as plt\n",
    " \n",
    "# Menghitung learning curve\n",
    "train_sizes, train_scores, test_scores = learning_curve(model, X_train, y_train, cv=5, scoring='neg_mean_squared_error', n_jobs=-1)\n",
    " \n",
    "# Menghitung rata-rata dan standar deviasi\n",
    "train_mean = -np.mean(train_scores, axis=1)\n",
    "test_mean = -np.mean(test_scores, axis=1)\n",
    " \n",
    "# Plot learning curve\n",
    "plt.plot(train_sizes, train_mean, 'o-', color=\"blue\", label=\"Training error\")\n",
    "plt.plot(train_sizes, test_mean, 'o-', color=\"green\", label=\"Cross-validation error\")\n",
    "plt.title(\"Learning Curve\")\n",
    "plt.xlabel(\"Training Set Size\")\n",
    "plt.ylabel(\"MSE\")\n",
    "plt.legend()\n",
    "plt.show()"
   ]
  },
  {
   "cell_type": "code",
   "execution_count": 6,
   "metadata": {},
   "outputs": [
    {
     "name": "stdout",
     "output_type": "stream",
     "text": [
      "Cross-Validation MSE: 0.5562691658603186\n"
     ]
    }
   ],
   "source": [
    "from sklearn.model_selection import cross_val_score\n",
    " \n",
    "# Menggunakan cross-validation dengan 5 fold\n",
    "cross_val_scores = cross_val_score(model, X_train, y_train, cv=5, scoring='neg_mean_squared_error')\n",
    " \n",
    "# Menampilkan hasil cross-validation\n",
    "print(f'Cross-Validation MSE: {-cross_val_scores.mean()}')"
   ]
  },
  {
   "cell_type": "code",
   "execution_count": 7,
   "metadata": {},
   "outputs": [
    {
     "name": "stdout",
     "output_type": "stream",
     "text": [
      "Training MSE (After Regularization): 0.4928096322147045\n",
      "Test MSE (After Regularization): 0.5210801561811793\n"
     ]
    }
   ],
   "source": [
    "# Regularization (Max Depth, Min Samples Split, Min Samples Leaf)\n",
    "# Membuat model Decision Tree dengan kedalaman yang lebih kecil\n",
    "model_reg = DecisionTreeRegressor(max_depth=5, random_state=42)\n",
    "model_reg.fit(X_train, y_train)\n",
    " \n",
    "# Evaluasi pada data latih dan uji\n",
    "y_train_pred_reg = model_reg.predict(X_train)\n",
    "y_test_pred_reg = model_reg.predict(X_test)\n",
    " \n",
    "# Hitung MSE\n",
    "train_mse_reg = mean_squared_error(y_train, y_train_pred_reg)\n",
    "test_mse_reg = mean_squared_error(y_test, y_test_pred_reg)\n",
    " \n",
    "print(f'Training MSE (After Regularization): {train_mse_reg}')\n",
    "print(f'Test MSE (After Regularization): {test_mse_reg}')"
   ]
  },
  {
   "cell_type": "code",
   "execution_count": 8,
   "metadata": {},
   "outputs": [
    {
     "name": "stdout",
     "output_type": "stream",
     "text": [
      "Pruned Model Training MSE: 0.9189620181001872\n",
      "Pruned Model Test MSE: 0.9194598144703808\n"
     ]
    }
   ],
   "source": [
    "# Pruning (Pruning Manual pada Kedalaman Pohon)\n",
    "# Menggunakan ccp_alpha untuk pruning (Cost Complexity Pruning)\n",
    "path = model.cost_complexity_pruning_path(X_train, y_train)\n",
    "ccp_alphas = path.ccp_alphas\n",
    " \n",
    "# Melatih model dengan pruning\n",
    "model_pruned = DecisionTreeRegressor(random_state=42, ccp_alpha=ccp_alphas[-2])\n",
    "model_pruned.fit(X_train, y_train)\n",
    " \n",
    "# Membuat prediksi\n",
    "y_train_pred_pruned = model_pruned.predict(X_train)\n",
    "y_test_pred_pruned = model_pruned.predict(X_test)\n",
    " \n",
    "# Menghitung MSE\n",
    "train_mse_pruned = mean_squared_error(y_train, y_train_pred_pruned)\n",
    "test_mse_pruned = mean_squared_error(y_test, y_test_pred_pruned)\n",
    " \n",
    "print(f'Pruned Model Training MSE: {train_mse_pruned}')\n",
    "print(f'Pruned Model Test MSE: {test_mse_pruned}')"
   ]
  },
  {
   "cell_type": "code",
   "execution_count": 10,
   "metadata": {},
   "outputs": [
    {
     "name": "stdout",
     "output_type": "stream",
     "text": [
      "Augmented Data Training MSE: 0.3144164684270906\n",
      "Augmented Data Test MSE: 0.49913193468769357\n"
     ]
    }
   ],
   "source": [
    "# Data Augmentation \n",
    "# Menambahkan sedikit noise ke data sebagai augmentasi\n",
    "X_train_aug = X_train + np.random.normal(0, 0.1, X_train.shape)\n",
    " \n",
    "# Melatih ulang model dengan augmented data\n",
    "model_aug = DecisionTreeRegressor(max_depth=10, random_state=42)\n",
    "model_aug.fit(X_train_aug, y_train)\n",
    " \n",
    "# Membuat prediksi\n",
    "y_train_pred_aug = model_aug.predict(X_train_aug)\n",
    "y_test_pred_aug = model_aug.predict(X_test)\n",
    " \n",
    "# Menghitung MSE\n",
    "train_mse_aug = mean_squared_error(y_train, y_train_pred_aug)\n",
    "test_mse_aug = mean_squared_error(y_test, y_test_pred_aug)\n",
    " \n",
    "print(f'Augmented Data Training MSE: {train_mse_aug}')\n",
    "print(f'Augmented Data Test MSE: {test_mse_aug}')"
   ]
  },
  {
   "cell_type": "code",
   "execution_count": 11,
   "metadata": {},
   "outputs": [
    {
     "name": "stdout",
     "output_type": "stream",
     "text": [
      "Random Forest Training MSE: 0.16944949734743134\n",
      "Random Forest Test MSE: 0.29446002390105996\n"
     ]
    }
   ],
   "source": [
    "# Dropout\n",
    "from sklearn.ensemble import RandomForestRegressor\n",
    " \n",
    "# Inisialisasi Random Forests dengan n_estimators (jumlah pohon)\n",
    "model_rf = RandomForestRegressor(n_estimators=100, max_depth=10, random_state=42)\n",
    " \n",
    "# Melatih model\n",
    "model_rf.fit(X_train, y_train)\n",
    " \n",
    "# Membuat prediksi\n",
    "y_train_pred_rf = model_rf.predict(X_train)\n",
    "y_test_pred_rf = model_rf.predict(X_test)\n",
    " \n",
    "# Menghitung MSE\n",
    "train_mse_rf = mean_squared_error(y_train, y_train_pred_rf)\n",
    "test_mse_rf = mean_squared_error(y_test, y_test_pred_rf)\n",
    " \n",
    "print(f'Random Forest Training MSE: {train_mse_rf}')\n",
    "print(f'Random Forest Test MSE: {test_mse_rf}')"
   ]
  },
  {
   "cell_type": "markdown",
   "metadata": {},
   "source": [
    "# Rangkuman Hasil Mengatasi Overfitting\n",
    "\n",
    "Notebook ini merangkum penerapan berbagai metode untuk mengurangi overfitting pada model **Decision Tree** serta hasil evaluasinya.\n",
    "\n",
    "---\n",
    "\n",
    "## 1. Cross-Validation\n",
    "\n",
    "**Tujuan:**  \n",
    "Mengukur kemampuan model dalam menggeneralisasi ke data baru dengan membagi data menjadi beberapa subset (fold) untuk pelatihan dan pengujian secara bergantian.\n",
    "\n",
    "**Implementasi:**  \n",
    "Menggunakan 5-fold cross-validation.\n",
    "\n",
    "**Hasil:**  \n",
    "- **Cross-Validation MSE:** 0.556\n",
    "\n",
    "**Perbandingan:**  \n",
    "- Sebelumnya:  \n",
    "  - Training MSE = 9.90 × 10⁻³²  \n",
    "  - Test MSE = 0.526\n",
    "\n",
    "*Interpretasi:*  \n",
    "Walaupun performa model menunjukkan konsistensi yang lebih baik, perbedaan signifikan antara Training MSE dan Test MSE mengindikasikan adanya potensi overfitting.\n",
    "\n",
    "---\n",
    "\n",
    "## 2. Regularization (Max Depth, Min Samples Split, Min Samples Leaf)\n",
    "\n",
    "**Tujuan:**  \n",
    "Mengurangi kompleksitas model agar tidak overfit dengan mengatur parameter seperti `max_depth`.\n",
    "\n",
    "**Implementasi:**  \n",
    "Mengatur model dengan `max_depth = 5`.\n",
    "\n",
    "**Hasil:**  \n",
    "- **Training MSE (Setelah Regularisasi):** 0.4928  \n",
    "- **Test MSE (Setelah Regularisasi):** 0.5211\n",
    "\n",
    "**Perbandingan:**  \n",
    "- Sebelumnya:  \n",
    "  - Training MSE = 9.90 × 10⁻³²  \n",
    "  - Test MSE = 0.5265\n",
    "\n",
    "*Interpretasi:*  \n",
    "Regularisasi mengurangi perbedaan antara Training dan Test MSE, sehingga model menjadi lebih seimbang dan memiliki kemampuan generalisasi yang lebih baik.\n",
    "\n",
    "---\n",
    "\n",
    "## 3. Pruning (Cost Complexity Pruning)\n",
    "\n",
    "**Tujuan:**  \n",
    "Memangkas cabang-cabang pohon keputusan yang kurang penting untuk mengurangi kompleksitas model dan overfitting.\n",
    "\n",
    "**Implementasi:**  \n",
    "Menggunakan Cost Complexity Pruning dengan parameter `ccp_alpha`.\n",
    "\n",
    "**Hasil:**  \n",
    "- **Pruned Model Training MSE:** 0.9189  \n",
    "- **Pruned Model Test MSE:** 0.9194\n",
    "\n",
    "**Perbandingan:**  \n",
    "- Sebelumnya:  \n",
    "  - Training MSE = 9.90 × 10⁻³²  \n",
    "  - Test MSE = 0.5265\n",
    "\n",
    "*Interpretasi:*  \n",
    "Walaupun nilai MSE meningkat, pruning berhasil menyeimbangkan performa antara data latih dan data uji, menjadikan model lebih stabil.\n",
    "\n",
    "---\n",
    "\n",
    "## 4. Data Augmentation\n",
    "\n",
    "**Tujuan:**  \n",
    "Meningkatkan variasi data latih dengan menambahkan noise, sehingga model dapat belajar untuk menggeneralisasi dengan lebih baik.\n",
    "\n",
    "**Implementasi:**  \n",
    "Menambahkan noise pada data latih.\n",
    "\n",
    "**Hasil:**  \n",
    "- **Augmented Data Training MSE:** 0.3193  \n",
    "- **Augmented Data Test MSE:** 0.5219\n",
    "\n",
    "**Perbandingan:**  \n",
    "- Sebelumnya:  \n",
    "  - Training MSE = 9.90 × 10⁻³²  \n",
    "  - Test MSE = 0.5265\n",
    "\n",
    "*Interpretasi:*  \n",
    "Data augmentation meningkatkan nilai Training MSE (yang menunjukkan pengurangan overfitting), sementara Test MSE tetap stabil.\n",
    "\n",
    "---\n",
    "\n",
    "## 5. Random Forest\n",
    "\n",
    "**Tujuan:**  \n",
    "Mengurangi overfitting dengan menggunakan metode ensemble, yaitu menggabungkan banyak pohon keputusan.\n",
    "\n",
    "**Implementasi:**  \n",
    "Menggunakan Random Forest dengan 100 pohon.\n",
    "\n",
    "**Hasil:**  \n",
    "- **Random Forest Training MSE:** 0.1694  \n",
    "- **Random Forest Test MSE:** 0.2945\n",
    "\n",
    "**Perbandingan:**  \n",
    "- Sebelumnya:  \n",
    "  - Training MSE = 9.90 × 10⁻³²  \n",
    "  - Test MSE = 0.5265\n",
    "\n",
    "*Interpretasi:*  \n",
    "Random Forest menunjukkan penurunan signifikan pada Test MSE, mengindikasikan bahwa metode ensemble mampu mengatasi overfitting dengan lebih baik.\n",
    "\n",
    "---\n",
    "\n",
    "## 6. Early Stopping\n",
    "\n",
    "**Tujuan:**  \n",
    "Menghentikan pelatihan lebih awal untuk menghindari overfitting.  \n",
    "*Catatan:* Teknik ini sering diterapkan pada neural networks dan metode pembelajaran iteratif seperti Gradient Boosting, sehingga tidak langsung diterapkan pada Decision Trees.\n",
    "\n",
    "**Implementasi:**  \n",
    "Tidak diterapkan langsung pada model Decision Tree, namun relevan untuk teknik lain.\n",
    "\n",
    "---\n",
    "\n",
    "## Kesimpulan\n",
    "\n",
    "Setelah menerapkan berbagai metode:\n",
    "- **Cross-Validation** memberikan gambaran menyeluruh tentang performa model, walaupun perbedaan antara Training dan Test MSE menunjukkan adanya overfitting.\n",
    "- **Regularization** dan **Pruning** berhasil membuat model lebih seimbang antara data latih dan uji.\n",
    "- **Data Augmentation** menambah variasi dalam data latih sehingga model belajar untuk menggeneralisasi.\n",
    "- **Random Forest** menunjukkan perbaikan signifikan dalam Test MSE melalui pendekatan ensemble.\n",
    "\n",
    "Setiap metode memiliki keunikan tersendiri. Pemilihan teknik yang tepat harus disesuaikan dengan karakteristik dataset dan kebutuhan spesifik model yang dikembangkan."
   ]
  },
  {
   "cell_type": "markdown",
   "metadata": {},
   "source": []
  }
 ],
 "metadata": {
  "kernelspec": {
   "display_name": "main-ds",
   "language": "python",
   "name": "python3"
  },
  "language_info": {
   "codemirror_mode": {
    "name": "ipython",
    "version": 3
   },
   "file_extension": ".py",
   "mimetype": "text/x-python",
   "name": "python",
   "nbconvert_exporter": "python",
   "pygments_lexer": "ipython3",
   "version": "3.9.21"
  }
 },
 "nbformat": 4,
 "nbformat_minor": 2
}
